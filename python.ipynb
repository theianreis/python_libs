{
  "nbformat": 4,
  "nbformat_minor": 0,
  "metadata": {
    "colab": {
      "provenance": [],
      "toc_visible": true,
      "authorship_tag": "ABX9TyPIJmgmHRxANra62CVNWuH7",
      "include_colab_link": true
    },
    "kernelspec": {
      "name": "python3",
      "display_name": "Python 3"
    },
    "language_info": {
      "name": "python"
    }
  },
  "cells": [
    {
      "cell_type": "markdown",
      "metadata": {
        "id": "view-in-github",
        "colab_type": "text"
      },
      "source": [
        "<a href=\"https://colab.research.google.com/github/theianreis/python_libs/blob/main/python.ipynb\" target=\"_parent\"><img src=\"https://colab.research.google.com/assets/colab-badge.svg\" alt=\"Open In Colab\"/></a>"
      ]
    },
    {
      "cell_type": "code",
      "source": [
        "import numpy as np\n",
        "import matplotlib.pyplot as plt\n",
        "\n",
        "#parameters\n",
        "v_0 = 10\n",
        "theta_degrees = 45\n",
        "acceleration_Oy = 9.81\n",
        "\n",
        "#raddian\n",
        "theta = np.radians(theta_degrees)\n",
        "\n",
        "#time if flight\n",
        "time_total = 2 * v_0 * np.sin(theta) / acceleration_Oy\n",
        "\n",
        "# time vector for simulation\n",
        "t = np.linspace(0, time_total, num=100)\n",
        "\n",
        "\n",
        "x = v_0 * np.cos(theta) * t\n",
        "y = v_0 * np.sin(theta) * t - 0.5 * acceleration_Oy * t**2\n",
        "\n",
        "#plotting\n",
        "plt.figure(figsize=(10, 6))\n",
        "plt.plot(x, y, label=f\"v₀ = {v_0} m/s, θ = {theta_degrees}°\")\n",
        "plt.title(\"Parabolic Motion\")\n",
        "plt.xlabel(\"Horizontal Distance (m)\")\n",
        "plt.ylabel(\"Vertical Distance (m)\")\n",
        "plt.grid(True)\n",
        "plt.legend()\n",
        "plt.show()\n"
      ],
      "metadata": {
        "id": "9il6gxhjZjcW"
      },
      "execution_count": null,
      "outputs": []
    },
    {
      "cell_type": "code",
      "source": [],
      "metadata": {
        "id": "yEfsYjlNZwjU"
      },
      "execution_count": null,
      "outputs": []
    }
  ]
}